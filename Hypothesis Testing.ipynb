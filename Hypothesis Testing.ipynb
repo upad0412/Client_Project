{
 "cells": [
  {
   "cell_type": "code",
   "execution_count": 1,
   "metadata": {},
   "outputs": [],
   "source": [
    "#Import required modules\n",
    "import pandas as pd\n",
    "import numpy as np\n",
    "import matplotlib.pyplot as plt\n",
    "from sklearn.linear_model import LinearRegression\n",
    "from sklearn.preprocessing import StandardScaler\n",
    "from sklearn.metrics import silhouette_score\n",
    "from sklearn.cluster import KMeans"
   ]
  },
  {
   "cell_type": "code",
   "execution_count": 2,
   "metadata": {},
   "outputs": [],
   "source": [
    "#Create dataframe of all details of grants\n",
    "grants = pd.merge(\n",
    "    left = pd.read_csv('PublicAssistanceFundedProjectsDetails.csv').drop(columns = ['hash','lastRefresh','id']), \n",
    "    right = pd.read_csv('GeoPublicAssistanceApplicants.csv').drop(columns = ['hash','lastRefresh','id']), \n",
    "    how = 'inner', \n",
    "    left_on = ['applicantId', 'disasterNumber'], \n",
    "    right_on = ['applicantId', 'disasterNumber'], \n",
    "    suffixes = ('_grant', '_applicant')\n",
    ")"
   ]
  },
  {
   "cell_type": "code",
   "execution_count": 3,
   "metadata": {},
   "outputs": [],
   "source": [
    "#Remove negative grant amounts\n",
    "grants.drop(index = grants[grants['totalObligated'] < 0].index, inplace = True)"
   ]
  },
  {
   "cell_type": "code",
   "execution_count": 4,
   "metadata": {},
   "outputs": [],
   "source": [
    "#Trim the zip code suffix\n",
    "grants['zipCode'] = grants['zipCode'].str.split(\"-\", expand = True)[0]"
   ]
  },
  {
   "cell_type": "code",
   "execution_count": 5,
   "metadata": {},
   "outputs": [],
   "source": [
    "#Add USGS Flood Event Name to grants dataframe\n",
    "grants = pd.merge(\n",
    "    left = grants, \n",
    "    right = pd.read_csv('Floods Listing - Flood IDs.csv')[['FEMA Disaster Code', 'FEMA Event Name', 'USGS Flood Event Name']], \n",
    "    left_on ='disasterNumber', \n",
    "    right_on = 'FEMA Disaster Code'\n",
    ")"
   ]
  },
  {
   "cell_type": "code",
   "execution_count": 6,
   "metadata": {},
   "outputs": [],
   "source": [
    "#Aggregate grant funding by ZIP\n",
    "zip_grants = grants.groupby(['zipCode', 'USGS Flood Event Name']).mean()[['totalObligated']].reset_index()"
   ]
  },
  {
   "cell_type": "code",
   "execution_count": 7,
   "metadata": {},
   "outputs": [],
   "source": [
    "#Aggregate flood height by ZIP\n",
    "zip_heights = pd.read_csv('FloodHeightsZIP.csv', dtype = 'object').drop(columns = ['Unnamed: 0'])"
   ]
  },
  {
   "cell_type": "code",
   "execution_count": 8,
   "metadata": {},
   "outputs": [],
   "source": [
    "#Recast flood height as float\n",
    "zip_heights['height_above_gnd'] = zip_heights['height_above_gnd'].astype('float')"
   ]
  },
  {
   "cell_type": "code",
   "execution_count": 9,
   "metadata": {},
   "outputs": [],
   "source": [
    "#Merge two ZIP-aggregated datasets together\n",
    "zip_stats = pd.merge(zip_grants, zip_heights, left_on = ['zipCode', 'USGS Flood Event Name'], right_on = ['zip', 'eventName']).drop(columns = ['zip', 'eventName'])"
   ]
  },
  {
   "cell_type": "code",
   "execution_count": 10,
   "metadata": {},
   "outputs": [],
   "source": [
    "#Scatter plot of flood heigh and grant funding per zipcode\n",
    "plt.figure(figsize = (9, 6))\n",
    "plt.scatter(zip_stats['height_above_gnd'], zip_stats['totalObligated'] / 1e6)\n",
    "plt.xlim(0,10)\n",
    "plt.ylim(0, 1)\n",
    "plt.title('Funds Granted vs Mean Flood Height')\n",
    "plt.xlabel('Mean Flood Height, Feet')\n",
    "plt.ylabel('FEMA Funds Granted per ZIP, $Millions');\n",
    "plt.savefig('images/Funds Granted vs Mean Flood Height.jpg')\n",
    "plt.close()"
   ]
  },
  {
   "cell_type": "code",
   "execution_count": 11,
   "metadata": {},
   "outputs": [],
   "source": [
    "#Plot bargraph of correlation between mean flood height and grant allocation\n",
    "corrs = zip_stats.groupby('USGS Flood Event Name').corr().loc(axis=1)['totalObligated'][:, 'height_above_gnd'].sort_values()\n",
    "plt.figure(figsize = (9, 6))\n",
    "plt.barh(corrs.index, corrs.values);\n",
    "plt.title('Correlation of Funds Granted & Mean Flood Height')\n",
    "plt.tight_layout()\n",
    "plt.savefig('images/Correlation of Funds Granted & Mean Flood Height.jpg')\n",
    "plt.close()"
   ]
  },
  {
   "cell_type": "code",
   "execution_count": 12,
   "metadata": {},
   "outputs": [],
   "source": [
    "# Drop rows where flood height is zero because we will take the ratio between total obligated and flood height\n",
    "zip_stats.drop(zip_stats[zip_stats['height_above_gnd'] == 0].index, inplace = True)\n",
    "#Create column funding per foot that is ratio between funding and mean flood height\n",
    "zip_stats['funding_per_foot'] = zip_stats['totalObligated'] / zip_stats['height_above_gnd']"
   ]
  },
  {
   "cell_type": "code",
   "execution_count": 13,
   "metadata": {},
   "outputs": [],
   "source": [
    "#Plot boxplot of range of values for funding ratio for each storm\n",
    "boxlabels = []\n",
    "boxvalues =[]\n",
    "for event in zip_stats['USGS Flood Event Name'].unique():\n",
    "    boxlabels.append(event)\n",
    "    boxvalues.append(zip_stats[zip_stats['USGS Flood Event Name'] == event]['funding_per_foot'].dropna().values)\n",
    "plt.figure(figsize = (9, 6))\n",
    "\n",
    "plt.boxplot(boxvalues, vert = False, labels = boxlabels, patch_artist = True);\n",
    "plt.title('Funding Granted per Feet Average Flood Height')\n",
    "plt.xlim(0, 5e5)\n",
    "plt.tight_layout()\n",
    "plt.savefig('images/Funding Granted per Feet Average Flood Height.jpg')\n",
    "plt.close()"
   ]
  },
  {
   "cell_type": "code",
   "execution_count": 14,
   "metadata": {},
   "outputs": [],
   "source": [
    "# Add USGS Flood Event Names & TimeLine Category to aggregated dataset\n",
    "zip_stats = pd.merge(\n",
    "    left = zip_stats,\n",
    "    right = pd.read_csv('Floods Listing - Flood IDs.csv')[['USGS Flood Event Name', 'Timeline_Category']],\n",
    "    on = 'USGS Flood Event Name'\n",
    ")"
   ]
  },
  {
   "cell_type": "code",
   "execution_count": 15,
   "metadata": {},
   "outputs": [],
   "source": [
    "#Save ZIP-Aggregated stats to CSV\n",
    "zip_stats.to_csv('ZIPAggStats.csv')"
   ]
  },
  {
   "cell_type": "code",
   "execution_count": 16,
   "metadata": {},
   "outputs": [
    {
     "data": {
      "image/png": "[encoded data removed]",
      "text/plain": [
       "<Figure size 504x360 with 1 Axes>"
      ]
     },
     "metadata": {
      "needs_background": "light"
     },
     "output_type": "display_data"
    }
   ],
   "source": [
    "#Plot histogram of funding per foot to assess normality\n",
    "#Funding per foot is very skewed, so the F-test is not appropriate\n",
    "plt.figure(figsize = (7, 5))\n",
    "plt.title('Histogram of Funding per Foot')\n",
    "plt.hist(zip_stats[zip_stats['funding_per_foot'] <1e6]['funding_per_foot'])\n",
    "plt.savefig('images/Histogram of Funding per Foot.jpg')"
   ]
  },
  {
   "cell_type": "markdown",
   "metadata": {},
   "source": [
    "https://docs.scipy.org/doc/scipy-0.14.0/reference/generated/scipy.stats.levene.html \n",
    "\n",
    "Three variations of Levene’s test are possible. The possibilities and their recommended usages are:\n",
    "\n",
    "‘median’ : Recommended for skewed (non-normal) distributions>\n",
    "\n",
    "‘mean’ : Recommended for symmetric, moderate-tailed distributions.\n",
    "\n",
    "‘trimmed’ : Recommended for heavy-tailed distributions."
   ]
  },
  {
   "cell_type": "code",
   "execution_count": 17,
   "metadata": {},
   "outputs": [],
   "source": [
    "from scipy.stats import levene"
   ]
  },
  {
   "cell_type": "code",
   "execution_count": 18,
   "metadata": {},
   "outputs": [
    {
     "data": {
      "text/plain": [
       "LeveneResult(statistic=1.4353423938541499, pvalue=0.2310974571159964)"
      ]
     },
     "execution_count": 18,
     "metadata": {},
     "output_type": "execute_result"
    }
   ],
   "source": [
    "# Difference before and after passage of PKEMRA\n",
    "levene(\n",
    "    zip_stats[zip_stats['Timeline_Category'] == 0]['funding_per_foot'].dropna(),\n",
    "    zip_stats[zip_stats['Timeline_Category'] == 1]['funding_per_foot'].dropna(),\n",
    "    center = 'median'\n",
    ")"
   ]
  },
  {
   "cell_type": "code",
   "execution_count": 19,
   "metadata": {},
   "outputs": [
    {
     "data": {
      "text/plain": [
       "LeveneResult(statistic=2.6303815513305278, pvalue=0.10494578688019465)"
      ]
     },
     "execution_count": 19,
     "metadata": {},
     "output_type": "execute_result"
    }
   ],
   "source": [
    "# Difference before and after passage of SRIA\n",
    "levene(\n",
    "    zip_stats[zip_stats['Timeline_Category'] == 1]['funding_per_foot'].dropna(),\n",
    "    zip_stats[zip_stats['Timeline_Category'] == 2]['funding_per_foot'].dropna(),\n",
    "    center = 'median'\n",
    ")"
   ]
  },
  {
   "cell_type": "code",
   "execution_count": 20,
   "metadata": {},
   "outputs": [
    {
     "data": {
      "text/plain": [
       "LeveneResult(statistic=0.10918733877749508, pvalue=0.7411143963906077)"
      ]
     },
     "execution_count": 20,
     "metadata": {},
     "output_type": "execute_result"
    }
   ],
   "source": [
    "# Difference before and after passage of DRRA\n",
    "levene(\n",
    "    zip_stats[zip_stats['Timeline_Category'] == 2]['funding_per_foot'].dropna(),\n",
    "    zip_stats[zip_stats['Timeline_Category'] == 3]['funding_per_foot'].dropna(),\n",
    "    center = 'median'\n",
    ")"
   ]
  },
  {
   "cell_type": "code",
   "execution_count": null,
   "metadata": {},
   "outputs": [],
   "source": []
  }
 ],
 "metadata": {
  "kernelspec": {
   "display_name": "Python 3",
   "language": "python",
   "name": "python3"
  },
  "language_info": {
   "codemirror_mode": {
    "name": "ipython",
    "version": 3
   },
   "file_extension": ".py",
   "mimetype": "text/x-python",
   "name": "python",
   "nbconvert_exporter": "python",
   "pygments_lexer": "ipython3",
   "version": "3.7.6"
  }
 },
 "nbformat": 4,
 "nbformat_minor": 4
}
