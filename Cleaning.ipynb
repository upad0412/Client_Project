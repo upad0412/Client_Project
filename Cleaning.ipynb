{
 "cells": [
  {
   "cell_type": "code",
   "execution_count": 1,
   "metadata": {},
   "outputs": [],
   "source": [
    "import numpy as np\n",
    "import pandas as pd"
   ]
  },
  {
   "cell_type": "markdown",
   "metadata": {},
   "source": [
    "### Read in Data"
   ]
  },
  {
   "cell_type": "code",
   "execution_count": 2,
   "metadata": {},
   "outputs": [],
   "source": [
    "# USGS and FEMA hurricane and flood data\n",
    "hrcn = pd.read_csv('HurricanewithZIP.csv')\n",
    "floods = pd.read_csv('Floods Listing - Flood IDs.csv')"
   ]
  },
  {
   "cell_type": "code",
   "execution_count": 3,
   "metadata": {},
   "outputs": [],
   "source": [
    "# FEMA grant data\n",
    "appls = pd.read_csv('GeoPublicAssistanceApplicants.csv')\n",
    "funded = pd.read_csv('PublicAssistanceFundedProjectsDetails.csv')"
   ]
  },
  {
   "cell_type": "code",
   "execution_count": 4,
   "metadata": {},
   "outputs": [],
   "source": [
    "# Census and IRS data\n",
    "pop = pd.read_csv('pop_totals_by_zip.csv')\n",
    "taxes = pd.read_csv('basic_taxes_by_zip.csv')"
   ]
  },
  {
   "cell_type": "markdown",
   "metadata": {},
   "source": [
    "### Functions"
   ]
  },
  {
   "cell_type": "code",
   "execution_count": 5,
   "metadata": {},
   "outputs": [],
   "source": [
    "def deciler(df, cat_column, dec_column):\n",
    "    '''adds new column of deciles, PER UNIQUE CATEGORY IN cat_column\n",
    "    to dataframe from input column (string), names it dec_column_decile_by_cat_column\n",
    "    returns new dataframe with new column, input dataframe remains unaltered'''\n",
    "    # copy the dataframe\n",
    "    dataframe = df.copy()\n",
    "    # create new column set with dummys\n",
    "    dataframe[f'{dec_column}_decile_by_{cat_column}'] = '_'\n",
    "    # get categories to group separate quantiles per category \n",
    "    categories = dataframe[cat_column].unique()\n",
    "    # loop through categories and quantile\n",
    "    for category in categories:\n",
    "        # grab dec_column data in each category\n",
    "        data_to_decile = dataframe.loc[dataframe[cat_column] == category, dec_column]\n",
    "        # create deciles\n",
    "        deciles = pd.qcut(data_to_decile, 10, labels=False, duplicates='drop')\n",
    "        # set the new decile column equal to decile value\n",
    "        dataframe.loc[dataframe[cat_column] == category, f'{dec_column}_decile_by_{cat_column}'] = deciles\n",
    "    return dataframe\n",
    "\n",
    "def scaler(df, cat_column, scale_column):\n",
    "    '''returns new dataframe with new column, \"column_scaled\"\n",
    "    scaled by z-score'''\n",
    "    from scipy.stats import zscore\n",
    "    dataframe = df.copy()\n",
    "    dataframe[f'{scale_column}_scaled_by_{cat_column}'] = '_'\n",
    "    categories = dataframe[cat_column].unique()\n",
    "    for category in categories:\n",
    "        data_to_scale = dataframe.loc[dataframe[cat_column] == category, scale_column]\n",
    "        scaled = zscore(data_to_scale)\n",
    "        dataframe.loc[dataframe[cat_column] == category, f'{scale_column}_scaled_by_{cat_column}'] = scaled\n",
    "    return dataframe\n",
    "\n",
    "def mean_gregator(df, cat_column, agg_column):\n",
    "    '''returns new dataframe with new column, \"agg_column_mean_by_cat_column\"'''\n",
    "    dataframe = df.copy()\n",
    "    dataframe[f'{agg_column}_mean_by_{cat_column}'] = '_'\n",
    "    categories = dataframe[cat_column].unique()\n",
    "    for category in categories:\n",
    "        data_to_average = dataframe.loc[dataframe[cat_column] == category, agg_column]\n",
    "        average = data_to_average.mean()\n",
    "        dataframe.loc[dataframe[cat_column] == category, f'{agg_column}_mean_by_{cat_column}'] = average\n",
    "    return dataframe"
   ]
  },
  {
   "cell_type": "markdown",
   "metadata": {},
   "source": [
    "### Floods"
   ]
  },
  {
   "cell_type": "code",
   "execution_count": 6,
   "metadata": {},
   "outputs": [
    {
     "data": {
      "text/html": [
       "<div>\n",
       "<style scoped>\n",
       "    .dataframe tbody tr th:only-of-type {\n",
       "        vertical-align: middle;\n",
       "    }\n",
       "\n",
       "    .dataframe tbody tr th {\n",
       "        vertical-align: top;\n",
       "    }\n",
       "\n",
       "    .dataframe thead th {\n",
       "        text-align: right;\n",
       "    }\n",
       "</style>\n",
       "<table border=\"1\" class=\"dataframe\">\n",
       "  <thead>\n",
       "    <tr style=\"text-align: right;\">\n",
       "      <th></th>\n",
       "      <th>FEMA Disaster Code</th>\n",
       "      <th>FEMA Event Name</th>\n",
       "      <th>USGS Flood Event Name</th>\n",
       "      <th>Flood id</th>\n",
       "      <th>Timeline_Category</th>\n",
       "      <th>Unnamed: 5</th>\n",
       "      <th>USGS Flood Event Name.1</th>\n",
       "      <th>Flood id.1</th>\n",
       "      <th>Timeline_Category.1</th>\n",
       "    </tr>\n",
       "  </thead>\n",
       "  <tbody>\n",
       "    <tr>\n",
       "      <th>0</th>\n",
       "      <td>1292</td>\n",
       "      <td>North Carolina Hurricane Floyd &amp; Irene</td>\n",
       "      <td>Irene</td>\n",
       "      <td>5</td>\n",
       "      <td>1</td>\n",
       "      <td>NaN</td>\n",
       "      <td>2019 Hurricane Dorian</td>\n",
       "      <td>1.0</td>\n",
       "      <td>3.0</td>\n",
       "    </tr>\n",
       "    <tr>\n",
       "      <th>1</th>\n",
       "      <td>1306</td>\n",
       "      <td>Florida Hurricane Irene</td>\n",
       "      <td>Irene</td>\n",
       "      <td>5</td>\n",
       "      <td>1</td>\n",
       "      <td>NaN</td>\n",
       "      <td>Florence Sep 2018</td>\n",
       "      <td>2.0</td>\n",
       "      <td>2.0</td>\n",
       "    </tr>\n",
       "    <tr>\n",
       "      <th>2</th>\n",
       "      <td>1490</td>\n",
       "      <td>North Carolina Hurricane Isabel</td>\n",
       "      <td>Isabel September 2003</td>\n",
       "      <td>8</td>\n",
       "      <td>0</td>\n",
       "      <td>NaN</td>\n",
       "      <td>Harvey Aug 2017</td>\n",
       "      <td>3.0</td>\n",
       "      <td>2.0</td>\n",
       "    </tr>\n",
       "    <tr>\n",
       "      <th>3</th>\n",
       "      <td>1491</td>\n",
       "      <td>Virginia Hurricane Isabel</td>\n",
       "      <td>Isabel September 2003</td>\n",
       "      <td>8</td>\n",
       "      <td>0</td>\n",
       "      <td>NaN</td>\n",
       "      <td>Hermine</td>\n",
       "      <td>4.0</td>\n",
       "      <td>2.0</td>\n",
       "    </tr>\n",
       "    <tr>\n",
       "      <th>4</th>\n",
       "      <td>1492</td>\n",
       "      <td>Maryland Hurricane Isabel</td>\n",
       "      <td>Isabel September 2003</td>\n",
       "      <td>8</td>\n",
       "      <td>0</td>\n",
       "      <td>NaN</td>\n",
       "      <td>Irene</td>\n",
       "      <td>5.0</td>\n",
       "      <td>1.0</td>\n",
       "    </tr>\n",
       "  </tbody>\n",
       "</table>\n",
       "</div>"
      ],
      "text/plain": [
       "   FEMA Disaster Code                         FEMA Event Name  \\\n",
       "0                1292  North Carolina Hurricane Floyd & Irene   \n",
       "1                1306                 Florida Hurricane Irene   \n",
       "2                1490         North Carolina Hurricane Isabel   \n",
       "3                1491               Virginia Hurricane Isabel   \n",
       "4                1492               Maryland Hurricane Isabel   \n",
       "\n",
       "   USGS Flood Event Name  Flood id  Timeline_Category  Unnamed: 5  \\\n",
       "0                  Irene         5                  1         NaN   \n",
       "1                  Irene         5                  1         NaN   \n",
       "2  Isabel September 2003         8                  0         NaN   \n",
       "3  Isabel September 2003         8                  0         NaN   \n",
       "4  Isabel September 2003         8                  0         NaN   \n",
       "\n",
       "  USGS Flood Event Name.1  Flood id.1  Timeline_Category.1  \n",
       "0   2019 Hurricane Dorian         1.0                  3.0  \n",
       "1       Florence Sep 2018         2.0                  2.0  \n",
       "2         Harvey Aug 2017         3.0                  2.0  \n",
       "3                 Hermine         4.0                  2.0  \n",
       "4                   Irene         5.0                  1.0  "
      ]
     },
     "execution_count": 6,
     "metadata": {},
     "output_type": "execute_result"
    }
   ],
   "source": [
    "floods.head()"
   ]
  },
  {
   "cell_type": "code",
   "execution_count": 7,
   "metadata": {},
   "outputs": [],
   "source": [
    "# drop last three cols\n",
    "floods.drop(columns=['Flood id', 'Unnamed: 5', 'USGS Flood Event Name.1', 'Flood id.1', 'Timeline_Category.1'], inplace=True)"
   ]
  },
  {
   "cell_type": "code",
   "execution_count": 8,
   "metadata": {},
   "outputs": [
    {
     "name": "stdout",
     "output_type": "stream",
     "text": [
      "<class 'pandas.core.frame.DataFrame'>\n",
      "RangeIndex: 86 entries, 0 to 85\n",
      "Data columns (total 4 columns):\n",
      " #   Column                 Non-Null Count  Dtype \n",
      "---  ------                 --------------  ----- \n",
      " 0   FEMA Disaster Code     86 non-null     int64 \n",
      " 1   FEMA Event Name        86 non-null     object\n",
      " 2   USGS Flood Event Name  86 non-null     object\n",
      " 3   Timeline_Category      86 non-null     int64 \n",
      "dtypes: int64(2), object(2)\n",
      "memory usage: 2.8+ KB\n"
     ]
    }
   ],
   "source": [
    "floods.info()"
   ]
  },
  {
   "cell_type": "markdown",
   "metadata": {},
   "source": [
    "### Hurricanes"
   ]
  },
  {
   "cell_type": "code",
   "execution_count": 9,
   "metadata": {},
   "outputs": [],
   "source": [
    "# need to have data with flood depth above ground, so lets keep from hrcn just rows from height_above_gnd\n",
    "hrcn = hrcn[hrcn['height_above_gnd'].notnull()].copy()"
   ]
  },
  {
   "cell_type": "code",
   "execution_count": 10,
   "metadata": {},
   "outputs": [],
   "source": [
    "# filter out clerical noise columns\n",
    "hrcn = hrcn[['latitude',\n",
    "            'longitude',\n",
    "            'site_latitude',\n",
    "            'site_longitude',\n",
    "            'eventName',\n",
    "            'stateName',\n",
    "            'countyName',\n",
    "            'hwm_id',\n",
    "            'hwm_locationdescription',\n",
    "            'elev_ft',\n",
    "            'height_above_gnd',\n",
    "            'hwm_environment',\n",
    "            'zip']].copy()"
   ]
  },
  {
   "cell_type": "code",
   "execution_count": 11,
   "metadata": {},
   "outputs": [
    {
     "name": "stderr",
     "output_type": "stream",
     "text": [
      "C:\\Users\\leejl\\anaconda3\\lib\\site-packages\\scipy\\stats\\stats.py:2419: RuntimeWarning: invalid value encountered in true_divide\n",
      "  return (a - mns) / sstd\n"
     ]
    }
   ],
   "source": [
    "# aggregate heights by hurricane\n",
    "hrcn = deciler(hrcn, 'eventName', 'height_above_gnd')\n",
    "hrcn = scaler(hrcn, 'eventName', 'height_above_gnd')\n",
    "hrcn = deciler(hrcn, 'eventName', 'elev_ft')"
   ]
  },
  {
   "cell_type": "code",
   "execution_count": 12,
   "metadata": {},
   "outputs": [],
   "source": [
    "# aggregate height by zipcode\n",
    "hrcn = deciler(hrcn, 'zip', 'height_above_gnd')\n",
    "hrcn = mean_gregator(hrcn, 'zip', 'height_above_gnd')"
   ]
  },
  {
   "cell_type": "code",
   "execution_count": 13,
   "metadata": {},
   "outputs": [
    {
     "name": "stdout",
     "output_type": "stream",
     "text": [
      "<class 'pandas.core.frame.DataFrame'>\n",
      "Int64Index: 6069 entries, 0 to 7865\n",
      "Data columns (total 18 columns):\n",
      " #   Column                                Non-Null Count  Dtype  \n",
      "---  ------                                --------------  -----  \n",
      " 0   latitude                              6069 non-null   float64\n",
      " 1   longitude                             6069 non-null   float64\n",
      " 2   site_latitude                         6069 non-null   float64\n",
      " 3   site_longitude                        6069 non-null   float64\n",
      " 4   eventName                             6069 non-null   object \n",
      " 5   stateName                             6069 non-null   object \n",
      " 6   countyName                            6069 non-null   object \n",
      " 7   hwm_id                                6069 non-null   int64  \n",
      " 8   hwm_locationdescription               5463 non-null   object \n",
      " 9   elev_ft                               5875 non-null   float64\n",
      " 10  height_above_gnd                      6069 non-null   float64\n",
      " 11  hwm_environment                       6069 non-null   object \n",
      " 12  zip                                   6069 non-null   float64\n",
      " 13  height_above_gnd_decile_by_eventName  6068 non-null   object \n",
      " 14  height_above_gnd_scaled_by_eventName  6068 non-null   object \n",
      " 15  elev_ft_decile_by_eventName           5874 non-null   object \n",
      " 16  height_above_gnd_decile_by_zip        5672 non-null   object \n",
      " 17  height_above_gnd_mean_by_zip          6069 non-null   object \n",
      "dtypes: float64(7), int64(1), object(10)\n",
      "memory usage: 900.9+ KB\n"
     ]
    }
   ],
   "source": [
    "hrcn.info()"
   ]
  },
  {
   "cell_type": "markdown",
   "metadata": {},
   "source": [
    "### Applications"
   ]
  },
  {
   "cell_type": "code",
   "execution_count": 14,
   "metadata": {},
   "outputs": [],
   "source": [
    "# drop unnecessary features\n",
    "appls.drop(columns=['state', 'hash', 'lastRefresh', 'id'], inplace=True)"
   ]
  },
  {
   "cell_type": "code",
   "execution_count": 15,
   "metadata": {},
   "outputs": [
    {
     "name": "stdout",
     "output_type": "stream",
     "text": [
      "<class 'pandas.core.frame.DataFrame'>\n",
      "RangeIndex: 19119 entries, 0 to 19118\n",
      "Data columns (total 9 columns):\n",
      " #   Column          Non-Null Count  Dtype  \n",
      "---  ------          --------------  -----  \n",
      " 0   disasterNumber  19119 non-null  int64  \n",
      " 1   applicantId     19119 non-null  object \n",
      " 2   applicantName   19119 non-null  object \n",
      " 3   addressLine1    19108 non-null  object \n",
      " 4   addressLine2    1155 non-null   object \n",
      " 5   city            19116 non-null  object \n",
      " 6   zipCode         19119 non-null  object \n",
      " 7   latitude        19119 non-null  float64\n",
      " 8   longitude       19119 non-null  float64\n",
      "dtypes: float64(2), int64(1), object(6)\n",
      "memory usage: 1.3+ MB\n"
     ]
    }
   ],
   "source": [
    "appls.info()"
   ]
  },
  {
   "cell_type": "markdown",
   "metadata": {},
   "source": [
    "### Funded Applications"
   ]
  },
  {
   "cell_type": "code",
   "execution_count": 16,
   "metadata": {},
   "outputs": [
    {
     "name": "stdout",
     "output_type": "stream",
     "text": [
      "<class 'pandas.core.frame.DataFrame'>\n",
      "RangeIndex: 956065 entries, 0 to 956064\n",
      "Data columns (total 22 columns):\n",
      " #   Column                 Non-Null Count   Dtype  \n",
      "---  ------                 --------------   -----  \n",
      " 0   disasterNumber         956065 non-null  int64  \n",
      " 1   declarationDate        956065 non-null  object \n",
      " 2   incidentType           956065 non-null  object \n",
      " 3   pwNumber               956065 non-null  int64  \n",
      " 4   applicationTitle       948678 non-null  object \n",
      " 5   applicantId            956065 non-null  object \n",
      " 6   damageCategoryCode     956065 non-null  object \n",
      " 7   dcc                    956065 non-null  object \n",
      " 8   damageCategory         956065 non-null  object \n",
      " 9   projectSize            929152 non-null  object \n",
      " 10  county                 929152 non-null  object \n",
      " 11  countyCode             929152 non-null  float64\n",
      " 12  state                  956065 non-null  object \n",
      " 13  stateCode              956065 non-null  object \n",
      " 14  stateNumberCode        956065 non-null  int64  \n",
      " 15  projectAmount          956065 non-null  float64\n",
      " 16  federalShareObligated  956065 non-null  float64\n",
      " 17  totalObligated         956065 non-null  float64\n",
      " 18  obligatedDate          956041 non-null  object \n",
      " 19  hash                   956065 non-null  object \n",
      " 20  lastRefresh            956065 non-null  object \n",
      " 21  id                     956065 non-null  object \n",
      "dtypes: float64(4), int64(3), object(15)\n",
      "memory usage: 160.5+ MB\n"
     ]
    }
   ],
   "source": [
    "funded.info()"
   ]
  },
  {
   "cell_type": "code",
   "execution_count": 17,
   "metadata": {},
   "outputs": [],
   "source": [
    "# drop unnecessary columns\n",
    "funded.drop(columns=['incidentType', \n",
    "                     'pwNumber', \n",
    "                     'applicationTitle',\n",
    "                     'damageCategoryCode',\n",
    "                     'dcc',\n",
    "                     'county',\n",
    "                     'countyCode',\n",
    "                     'stateCode',\n",
    "                     'stateNumberCode',\n",
    "                     'hash', 'lastRefresh', 'id'], inplace=True)\n",
    "\n",
    "# filter the funded projects to only those disasters that we have applicants for\n",
    "funded = funded.loc[funded['disasterNumber'].isin(appls['disasterNumber']), :].copy()"
   ]
  },
  {
   "cell_type": "code",
   "execution_count": 18,
   "metadata": {},
   "outputs": [
    {
     "data": {
      "text/html": [
       "<div>\n",
       "<style scoped>\n",
       "    .dataframe tbody tr th:only-of-type {\n",
       "        vertical-align: middle;\n",
       "    }\n",
       "\n",
       "    .dataframe tbody tr th {\n",
       "        vertical-align: top;\n",
       "    }\n",
       "\n",
       "    .dataframe thead th {\n",
       "        text-align: right;\n",
       "    }\n",
       "</style>\n",
       "<table border=\"1\" class=\"dataframe\">\n",
       "  <thead>\n",
       "    <tr style=\"text-align: right;\">\n",
       "      <th></th>\n",
       "      <th>disasterNumber</th>\n",
       "      <th>projectAmount</th>\n",
       "      <th>federalShareObligated</th>\n",
       "      <th>totalObligated</th>\n",
       "    </tr>\n",
       "  </thead>\n",
       "  <tbody>\n",
       "    <tr>\n",
       "      <th>count</th>\n",
       "      <td>158160.000000</td>\n",
       "      <td>1.581600e+05</td>\n",
       "      <td>1.581600e+05</td>\n",
       "      <td>1.581600e+05</td>\n",
       "    </tr>\n",
       "    <tr>\n",
       "      <th>mean</th>\n",
       "      <td>3152.218507</td>\n",
       "      <td>2.620620e+05</td>\n",
       "      <td>2.377928e+05</td>\n",
       "      <td>2.381013e+05</td>\n",
       "    </tr>\n",
       "    <tr>\n",
       "      <th>std</th>\n",
       "      <td>1276.667971</td>\n",
       "      <td>6.737716e+06</td>\n",
       "      <td>6.157101e+06</td>\n",
       "      <td>6.157532e+06</td>\n",
       "    </tr>\n",
       "    <tr>\n",
       "      <th>min</th>\n",
       "      <td>1292.000000</td>\n",
       "      <td>-1.712000e+08</td>\n",
       "      <td>-1.712000e+08</td>\n",
       "      <td>-1.712000e+08</td>\n",
       "    </tr>\n",
       "    <tr>\n",
       "      <th>25%</th>\n",
       "      <td>1609.000000</td>\n",
       "      <td>0.000000e+00</td>\n",
       "      <td>1.721648e+03</td>\n",
       "      <td>1.736787e+03</td>\n",
       "    </tr>\n",
       "    <tr>\n",
       "      <th>50%</th>\n",
       "      <td>4021.000000</td>\n",
       "      <td>6.326825e+03</td>\n",
       "      <td>7.258090e+03</td>\n",
       "      <td>7.314680e+03</td>\n",
       "    </tr>\n",
       "    <tr>\n",
       "      <th>75%</th>\n",
       "      <td>4091.000000</td>\n",
       "      <td>3.521236e+04</td>\n",
       "      <td>3.268113e+04</td>\n",
       "      <td>3.292378e+04</td>\n",
       "    </tr>\n",
       "    <tr>\n",
       "      <th>max</th>\n",
       "      <td>4468.000000</td>\n",
       "      <td>1.091636e+09</td>\n",
       "      <td>9.824720e+08</td>\n",
       "      <td>9.824720e+08</td>\n",
       "    </tr>\n",
       "  </tbody>\n",
       "</table>\n",
       "</div>"
      ],
      "text/plain": [
       "       disasterNumber  projectAmount  federalShareObligated  totalObligated\n",
       "count   158160.000000   1.581600e+05           1.581600e+05    1.581600e+05\n",
       "mean      3152.218507   2.620620e+05           2.377928e+05    2.381013e+05\n",
       "std       1276.667971   6.737716e+06           6.157101e+06    6.157532e+06\n",
       "min       1292.000000  -1.712000e+08          -1.712000e+08   -1.712000e+08\n",
       "25%       1609.000000   0.000000e+00           1.721648e+03    1.736787e+03\n",
       "50%       4021.000000   6.326825e+03           7.258090e+03    7.314680e+03\n",
       "75%       4091.000000   3.521236e+04           3.268113e+04    3.292378e+04\n",
       "max       4468.000000   1.091636e+09           9.824720e+08    9.824720e+08"
      ]
     },
     "execution_count": 18,
     "metadata": {},
     "output_type": "execute_result"
    }
   ],
   "source": [
    "# check for anything negative\n",
    "funded.describe()"
   ]
  },
  {
   "cell_type": "code",
   "execution_count": 19,
   "metadata": {},
   "outputs": [
    {
     "data": {
      "text/html": [
       "<div>\n",
       "<style scoped>\n",
       "    .dataframe tbody tr th:only-of-type {\n",
       "        vertical-align: middle;\n",
       "    }\n",
       "\n",
       "    .dataframe tbody tr th {\n",
       "        vertical-align: top;\n",
       "    }\n",
       "\n",
       "    .dataframe thead th {\n",
       "        text-align: right;\n",
       "    }\n",
       "</style>\n",
       "<table border=\"1\" class=\"dataframe\">\n",
       "  <thead>\n",
       "    <tr style=\"text-align: right;\">\n",
       "      <th></th>\n",
       "      <th>disasterNumber</th>\n",
       "      <th>projectAmount</th>\n",
       "      <th>federalShareObligated</th>\n",
       "      <th>totalObligated</th>\n",
       "    </tr>\n",
       "  </thead>\n",
       "  <tbody>\n",
       "    <tr>\n",
       "      <th>count</th>\n",
       "      <td>158160.000000</td>\n",
       "      <td>1.581600e+05</td>\n",
       "      <td>1.581600e+05</td>\n",
       "      <td>1.581600e+05</td>\n",
       "    </tr>\n",
       "    <tr>\n",
       "      <th>mean</th>\n",
       "      <td>3152.218507</td>\n",
       "      <td>2.933997e+05</td>\n",
       "      <td>2.658347e+05</td>\n",
       "      <td>2.662979e+05</td>\n",
       "    </tr>\n",
       "    <tr>\n",
       "      <th>std</th>\n",
       "      <td>1276.667971</td>\n",
       "      <td>6.736424e+06</td>\n",
       "      <td>6.155954e+06</td>\n",
       "      <td>6.156377e+06</td>\n",
       "    </tr>\n",
       "    <tr>\n",
       "      <th>min</th>\n",
       "      <td>1292.000000</td>\n",
       "      <td>0.000000e+00</td>\n",
       "      <td>0.000000e+00</td>\n",
       "      <td>1.000000e-02</td>\n",
       "    </tr>\n",
       "    <tr>\n",
       "      <th>25%</th>\n",
       "      <td>1609.000000</td>\n",
       "      <td>1.000000e+03</td>\n",
       "      <td>2.512500e+03</td>\n",
       "      <td>2.532463e+03</td>\n",
       "    </tr>\n",
       "    <tr>\n",
       "      <th>50%</th>\n",
       "      <td>4021.000000</td>\n",
       "      <td>8.540000e+03</td>\n",
       "      <td>9.158540e+03</td>\n",
       "      <td>9.227415e+03</td>\n",
       "    </tr>\n",
       "    <tr>\n",
       "      <th>75%</th>\n",
       "      <td>4091.000000</td>\n",
       "      <td>4.345397e+04</td>\n",
       "      <td>3.956747e+04</td>\n",
       "      <td>3.985948e+04</td>\n",
       "    </tr>\n",
       "    <tr>\n",
       "      <th>max</th>\n",
       "      <td>4468.000000</td>\n",
       "      <td>1.091636e+09</td>\n",
       "      <td>9.824720e+08</td>\n",
       "      <td>9.824720e+08</td>\n",
       "    </tr>\n",
       "  </tbody>\n",
       "</table>\n",
       "</div>"
      ],
      "text/plain": [
       "       disasterNumber  projectAmount  federalShareObligated  totalObligated\n",
       "count   158160.000000   1.581600e+05           1.581600e+05    1.581600e+05\n",
       "mean      3152.218507   2.933997e+05           2.658347e+05    2.662979e+05\n",
       "std       1276.667971   6.736424e+06           6.155954e+06    6.156377e+06\n",
       "min       1292.000000   0.000000e+00           0.000000e+00    1.000000e-02\n",
       "25%       1609.000000   1.000000e+03           2.512500e+03    2.532463e+03\n",
       "50%       4021.000000   8.540000e+03           9.158540e+03    9.227415e+03\n",
       "75%       4091.000000   4.345397e+04           3.956747e+04    3.985948e+04\n",
       "max       4468.000000   1.091636e+09           9.824720e+08    9.824720e+08"
      ]
     },
     "execution_count": 19,
     "metadata": {},
     "output_type": "execute_result"
    }
   ],
   "source": [
    "# odd negative rows, seems legit except for the sign, take np.abs()\n",
    "funded['projectAmount'] = np.abs(funded['projectAmount'])\n",
    "funded['federalShareObligated'] = np.abs(funded['federalShareObligated'])\n",
    "funded['totalObligated'] = np.abs(funded['totalObligated'])\n",
    "\n",
    "# check\n",
    "funded.describe()"
   ]
  },
  {
   "cell_type": "markdown",
   "metadata": {},
   "source": [
    "### Joining Datasets"
   ]
  },
  {
   "cell_type": "code",
   "execution_count": 20,
   "metadata": {},
   "outputs": [],
   "source": [
    "# join appls and funded into grants\n",
    "grants = pd.merge(left=funded, right=appls, how='inner', left_on=['applicantId', 'disasterNumber'], right_on=['applicantId', 'disasterNumber'])"
   ]
  },
  {
   "cell_type": "code",
   "execution_count": 21,
   "metadata": {},
   "outputs": [],
   "source": [
    "# join grants and flood on disasterNumbers in order to apply deciler and scaler\n",
    "grants = pd.merge(left=grants, right=floods, how='left', left_on='disasterNumber', right_on='FEMA Disaster Code')\n",
    "grants.drop(columns='FEMA Disaster Code', inplace=True)"
   ]
  },
  {
   "cell_type": "code",
   "execution_count": 22,
   "metadata": {},
   "outputs": [],
   "source": [
    "# decile and scale\n",
    "grants = deciler(grants, 'USGS Flood Event Name', 'projectAmount')\n",
    "grants = scaler(grants, 'USGS Flood Event Name', 'projectAmount')\n",
    "\n",
    "grants = deciler(grants, 'USGS Flood Event Name', 'federalShareObligated')\n",
    "grants = scaler(grants, 'USGS Flood Event Name', 'federalShareObligated')\n",
    "\n",
    "grants = deciler(grants, 'USGS Flood Event Name', 'totalObligated')\n",
    "grants = scaler(grants, 'USGS Flood Event Name', 'totalObligated')"
   ]
  },
  {
   "cell_type": "code",
   "execution_count": 23,
   "metadata": {},
   "outputs": [],
   "source": [
    "# format zipcodes -- drop trailing 4 digits and hyphen\n",
    "grants['zipCode'] = [i[:5] for i in grants['zipCode']]"
   ]
  },
  {
   "cell_type": "markdown",
   "metadata": {},
   "source": [
    "### Population and Income"
   ]
  },
  {
   "cell_type": "code",
   "execution_count": 24,
   "metadata": {},
   "outputs": [
    {
     "data": {
      "text/html": [
       "<div>\n",
       "<style scoped>\n",
       "    .dataframe tbody tr th:only-of-type {\n",
       "        vertical-align: middle;\n",
       "    }\n",
       "\n",
       "    .dataframe tbody tr th {\n",
       "        vertical-align: top;\n",
       "    }\n",
       "\n",
       "    .dataframe thead th {\n",
       "        text-align: right;\n",
       "    }\n",
       "</style>\n",
       "<table border=\"1\" class=\"dataframe\">\n",
       "  <thead>\n",
       "    <tr style=\"text-align: right;\">\n",
       "      <th></th>\n",
       "      <th>zipcode</th>\n",
       "      <th>population</th>\n",
       "      <th>population_decile_by_zip</th>\n",
       "      <th>population_scaled_by_zip</th>\n",
       "    </tr>\n",
       "  </thead>\n",
       "  <tbody>\n",
       "    <tr>\n",
       "      <th>0</th>\n",
       "      <td>00601</td>\n",
       "      <td>18570</td>\n",
       "      <td>8</td>\n",
       "      <td>0.664237</td>\n",
       "    </tr>\n",
       "    <tr>\n",
       "      <th>1</th>\n",
       "      <td>00602</td>\n",
       "      <td>41520</td>\n",
       "      <td>9</td>\n",
       "      <td>2.332875</td>\n",
       "    </tr>\n",
       "    <tr>\n",
       "      <th>2</th>\n",
       "      <td>00603</td>\n",
       "      <td>54689</td>\n",
       "      <td>9</td>\n",
       "      <td>3.290360</td>\n",
       "    </tr>\n",
       "    <tr>\n",
       "      <th>3</th>\n",
       "      <td>00606</td>\n",
       "      <td>6615</td>\n",
       "      <td>6</td>\n",
       "      <td>-0.204982</td>\n",
       "    </tr>\n",
       "    <tr>\n",
       "      <th>4</th>\n",
       "      <td>00610</td>\n",
       "      <td>29016</td>\n",
       "      <td>8</td>\n",
       "      <td>1.423739</td>\n",
       "    </tr>\n",
       "  </tbody>\n",
       "</table>\n",
       "</div>"
      ],
      "text/plain": [
       "  zipcode  population  population_decile_by_zip  population_scaled_by_zip\n",
       "0   00601       18570                         8                  0.664237\n",
       "1   00602       41520                         9                  2.332875\n",
       "2   00603       54689                         9                  3.290360\n",
       "3   00606        6615                         6                 -0.204982\n",
       "4   00610       29016                         8                  1.423739"
      ]
     },
     "execution_count": 24,
     "metadata": {},
     "output_type": "execute_result"
    }
   ],
   "source": [
    "# format zipcodes to strings, add leading zeros where necessary\n",
    "pop['zipcode'] = [i.zfill(5) for i in pop['zipcode'].astype('str')]\n",
    "\n",
    "# generate scaled population and deciles\n",
    "from scipy.stats import zscore\n",
    "\n",
    "pop['population_decile_by_zip'] = pd.qcut(pop['population'], 10, labels=False, duplicates='drop')\n",
    "pop['population_scaled_by_zip'] = zscore(pop['population'])\n",
    "\n",
    "pop.head()"
   ]
  },
  {
   "cell_type": "code",
   "execution_count": 25,
   "metadata": {},
   "outputs": [
    {
     "data": {
      "text/html": [
       "<div>\n",
       "<style scoped>\n",
       "    .dataframe tbody tr th:only-of-type {\n",
       "        vertical-align: middle;\n",
       "    }\n",
       "\n",
       "    .dataframe tbody tr th {\n",
       "        vertical-align: top;\n",
       "    }\n",
       "\n",
       "    .dataframe thead th {\n",
       "        text-align: right;\n",
       "    }\n",
       "</style>\n",
       "<table border=\"1\" class=\"dataframe\">\n",
       "  <thead>\n",
       "    <tr style=\"text-align: right;\">\n",
       "      <th></th>\n",
       "      <th>STATE</th>\n",
       "      <th>zipcode</th>\n",
       "      <th>agi_stub</th>\n",
       "      <th>A00100</th>\n",
       "    </tr>\n",
       "  </thead>\n",
       "  <tbody>\n",
       "    <tr>\n",
       "      <th>6</th>\n",
       "      <td>AL</td>\n",
       "      <td>35004</td>\n",
       "      <td>1</td>\n",
       "      <td>19765.0</td>\n",
       "    </tr>\n",
       "    <tr>\n",
       "      <th>7</th>\n",
       "      <td>AL</td>\n",
       "      <td>35004</td>\n",
       "      <td>2</td>\n",
       "      <td>45905.0</td>\n",
       "    </tr>\n",
       "    <tr>\n",
       "      <th>8</th>\n",
       "      <td>AL</td>\n",
       "      <td>35004</td>\n",
       "      <td>3</td>\n",
       "      <td>57471.0</td>\n",
       "    </tr>\n",
       "    <tr>\n",
       "      <th>9</th>\n",
       "      <td>AL</td>\n",
       "      <td>35004</td>\n",
       "      <td>4</td>\n",
       "      <td>46868.0</td>\n",
       "    </tr>\n",
       "    <tr>\n",
       "      <th>10</th>\n",
       "      <td>AL</td>\n",
       "      <td>35004</td>\n",
       "      <td>5</td>\n",
       "      <td>53543.0</td>\n",
       "    </tr>\n",
       "  </tbody>\n",
       "</table>\n",
       "</div>"
      ],
      "text/plain": [
       "   STATE  zipcode  agi_stub   A00100\n",
       "6     AL    35004         1  19765.0\n",
       "7     AL    35004         2  45905.0\n",
       "8     AL    35004         3  57471.0\n",
       "9     AL    35004         4  46868.0\n",
       "10    AL    35004         5  53543.0"
      ]
     },
     "execution_count": 25,
     "metadata": {},
     "output_type": "execute_result"
    }
   ],
   "source": [
    "# drop state totals\n",
    "taxes = taxes.loc[taxes['zipcode'] != 0, :]\n",
    "taxes.head()"
   ]
  },
  {
   "cell_type": "code",
   "execution_count": 26,
   "metadata": {},
   "outputs": [
    {
     "data": {
      "text/html": [
       "<div>\n",
       "<style scoped>\n",
       "    .dataframe tbody tr th:only-of-type {\n",
       "        vertical-align: middle;\n",
       "    }\n",
       "\n",
       "    .dataframe tbody tr th {\n",
       "        vertical-align: top;\n",
       "    }\n",
       "\n",
       "    .dataframe thead th {\n",
       "        text-align: right;\n",
       "    }\n",
       "</style>\n",
       "<table border=\"1\" class=\"dataframe\">\n",
       "  <thead>\n",
       "    <tr style=\"text-align: right;\">\n",
       "      <th></th>\n",
       "      <th>total_agi_per_zip</th>\n",
       "    </tr>\n",
       "    <tr>\n",
       "      <th>zipcode</th>\n",
       "      <th></th>\n",
       "    </tr>\n",
       "  </thead>\n",
       "  <tbody>\n",
       "    <tr>\n",
       "      <th>01001</th>\n",
       "      <td>436051.0000</td>\n",
       "    </tr>\n",
       "    <tr>\n",
       "      <th>01002</th>\n",
       "      <td>664035.0000</td>\n",
       "    </tr>\n",
       "    <tr>\n",
       "      <th>01005</th>\n",
       "      <td>118789.0000</td>\n",
       "    </tr>\n",
       "    <tr>\n",
       "      <th>01007</th>\n",
       "      <td>439083.0000</td>\n",
       "    </tr>\n",
       "    <tr>\n",
       "      <th>01008</th>\n",
       "      <td>35627.0001</td>\n",
       "    </tr>\n",
       "  </tbody>\n",
       "</table>\n",
       "</div>"
      ],
      "text/plain": [
       "         total_agi_per_zip\n",
       "zipcode                   \n",
       "01001          436051.0000\n",
       "01002          664035.0000\n",
       "01005          118789.0000\n",
       "01007          439083.0000\n",
       "01008           35627.0001"
      ]
     },
     "execution_count": 26,
     "metadata": {},
     "output_type": "execute_result"
    }
   ],
   "source": [
    "# format zipcodes to strings, add leading zeros where necessary\n",
    "taxes['zipcode'] = [i.zfill(5) for i in taxes['zipcode'].astype('str')]\n",
    "\n",
    "# aggregate agi per zip\n",
    "total_agi = taxes.groupby('zipcode').sum()\n",
    "total_agi.drop(columns='agi_stub', inplace=True)\n",
    "total_agi.rename(columns={'A00100': 'total_agi_per_zip'}, inplace=True)\n",
    "\n",
    "total_agi.head()"
   ]
  },
  {
   "cell_type": "code",
   "execution_count": 27,
   "metadata": {},
   "outputs": [],
   "source": [
    "# join population data\n",
    "grants = pd.merge(left=grants, right=pop, how='inner', left_on='zipCode', right_on='zipcode')"
   ]
  },
  {
   "cell_type": "code",
   "execution_count": 28,
   "metadata": {},
   "outputs": [],
   "source": [
    "# join tax data\n",
    "grants = pd.merge(left=grants, right=total_agi, how='inner', left_on='zipCode', right_on=total_agi.index)"
   ]
  },
  {
   "cell_type": "code",
   "execution_count": 29,
   "metadata": {},
   "outputs": [],
   "source": [
    "# generate agi per capita feature\n",
    "grants['agi_per_capita_per_zip'] = grants['total_agi_per_zip'] / grants['population']"
   ]
  },
  {
   "cell_type": "code",
   "execution_count": 30,
   "metadata": {},
   "outputs": [
    {
     "name": "stdout",
     "output_type": "stream",
     "text": [
      "<class 'pandas.core.frame.DataFrame'>\n",
      "Int64Index: 131673 entries, 0 to 131672\n",
      "Data columns (total 32 columns):\n",
      " #   Column                                                 Non-Null Count   Dtype  \n",
      "---  ------                                                 --------------   -----  \n",
      " 0   disasterNumber                                         131673 non-null  int64  \n",
      " 1   declarationDate                                        131673 non-null  object \n",
      " 2   applicantId                                            131673 non-null  object \n",
      " 3   damageCategory                                         131673 non-null  object \n",
      " 4   projectSize                                            131673 non-null  object \n",
      " 5   state                                                  131673 non-null  object \n",
      " 6   projectAmount                                          131673 non-null  float64\n",
      " 7   federalShareObligated                                  131673 non-null  float64\n",
      " 8   totalObligated                                         131673 non-null  float64\n",
      " 9   obligatedDate                                          131673 non-null  object \n",
      " 10  applicantName                                          131673 non-null  object \n",
      " 11  addressLine1                                           131568 non-null  object \n",
      " 12  addressLine2                                           8714 non-null    object \n",
      " 13  city                                                   131673 non-null  object \n",
      " 14  zipCode                                                131673 non-null  object \n",
      " 15  latitude                                               131673 non-null  float64\n",
      " 16  longitude                                              131673 non-null  float64\n",
      " 17  FEMA Event Name                                        131673 non-null  object \n",
      " 18  USGS Flood Event Name                                  131673 non-null  object \n",
      " 19  Timeline_Category                                      131673 non-null  int64  \n",
      " 20  projectAmount_decile_by_USGS Flood Event Name          131673 non-null  object \n",
      " 21  projectAmount_scaled_by_USGS Flood Event Name          131673 non-null  object \n",
      " 22  federalShareObligated_decile_by_USGS Flood Event Name  131673 non-null  object \n",
      " 23  federalShareObligated_scaled_by_USGS Flood Event Name  131673 non-null  object \n",
      " 24  totalObligated_decile_by_USGS Flood Event Name         131673 non-null  object \n",
      " 25  totalObligated_scaled_by_USGS Flood Event Name         131673 non-null  object \n",
      " 26  zipcode                                                131673 non-null  object \n",
      " 27  population                                             131673 non-null  int64  \n",
      " 28  population_decile_by_zip                               131673 non-null  int64  \n",
      " 29  population_scaled_by_zip                               131673 non-null  float64\n",
      " 30  total_agi_per_zip                                      131673 non-null  float64\n",
      " 31  agi_per_capita_per_zip                                 131673 non-null  float64\n",
      "dtypes: float64(8), int64(4), object(20)\n",
      "memory usage: 33.2+ MB\n"
     ]
    }
   ],
   "source": [
    "grants.info()"
   ]
  },
  {
   "cell_type": "markdown",
   "metadata": {},
   "source": [
    "### Save to CSVs"
   ]
  },
  {
   "cell_type": "code",
   "execution_count": 31,
   "metadata": {},
   "outputs": [],
   "source": [
    "# hrcn.to_csv('depths_and_hurricanes.csv')\n",
    "# grants.to_csv('grants_money_pop.csv')"
   ]
  }
 ],
 "metadata": {
  "kernelspec": {
   "display_name": "Python 3",
   "language": "python",
   "name": "python3"
  },
  "language_info": {
   "codemirror_mode": {
    "name": "ipython",
    "version": 3
   },
   "file_extension": ".py",
   "mimetype": "text/x-python",
   "name": "python",
   "nbconvert_exporter": "python",
   "pygments_lexer": "ipython3",
   "version": "3.7.7"
  }
 },
 "nbformat": 4,
 "nbformat_minor": 4
}
