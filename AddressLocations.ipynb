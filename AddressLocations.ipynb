{
 "cells": [
  {
   "cell_type": "code",
   "execution_count": 1,
   "metadata": {},
   "outputs": [],
   "source": [
    "#Import required packages\n",
    "import pandas as pd\n",
    "import requests\n",
    "import googlemaps\n",
    "import numpy as np\n",
    "from time import sleep"
   ]
  },
  {
   "cell_type": "code",
   "execution_count": 2,
   "metadata": {},
   "outputs": [],
   "source": [
    "# Read in floods dataset and sort index for iteration\n",
    "floods = pd.read_csv('Floods Listing - Flood IDs.csv')\n",
    "\n",
    "code_list = floods['FEMA Disaster Code'].unique()\n",
    "\n",
    "df = pd.read_csv('PublicAssistanceApplicants.csv')\n",
    "df = df[df['disasterNumber'].isin(code_list)]\n",
    "\n",
    "df.sort_index(inplace = True)"
   ]
  },
  {
   "cell_type": "code",
   "execution_count": 3,
   "metadata": {},
   "outputs": [],
   "source": [
    "# My Google Maps API key - deleted\n",
    "mykey = ''"
   ]
  },
  {
   "cell_type": "code",
   "execution_count": 4,
   "metadata": {},
   "outputs": [
    {
     "name": "stdout",
     "output_type": "stream",
     "text": [
      "Getting coordinates for index 3242\n"
     ]
    }
   ],
   "source": [
    "# Use Google Maps API to get Latitude and Longitude for Each Address\n",
    "gmaps = googlemaps.Client(key=mykey)\n",
    "\n",
    "df['latitude'] = np.zeros(df.shape[0])\n",
    "df['longitude'] = np.zeros(df.shape[0])\n",
    "\n",
    "for index in df.index[0:1]: #I truncated the index to show the cell runs without re-running entire query\n",
    "    \n",
    "    address  = ''\n",
    "    zipcode = df.loc[index, 'zipCode']\n",
    "    \n",
    "    if not(df['addressLine1'].isnull()[index]):\n",
    "        address = df.loc[index, 'addressLine1']\n",
    "        \n",
    "    elif not(df['addressLine2'].isnull()[index]):\n",
    "        address = df.loc[index, 'addressLine2']\n",
    "        \n",
    "    if  zipcode != '-0000' and address != '':\n",
    "        \n",
    "        print(f'Getting coordinates for index {index}')\n",
    "        \n",
    "        geocode_result = gmaps.geocode(f'{address}, {zipcode}')\n",
    "        \n",
    "        if geocode_result == []:\n",
    "            pass\n",
    "        \n",
    "        else:\n",
    "            df.loc[index, 'latitude'] = geocode_result[0]['geometry']['location']['lat']\n",
    "            df.loc[index, 'longitude']= geocode_result[0]['geometry']['location']['lng']\n",
    "            \n",
    "        sleep(1)\n",
    "        \n",
    "# df.to_csv('GeoPublicAssistanceApplicants.csv', index = False)"
   ]
  },
  {
   "cell_type": "code",
   "execution_count": null,
   "metadata": {},
   "outputs": [],
   "source": []
  }
 ],
 "metadata": {
  "kernelspec": {
   "display_name": "Python 3",
   "language": "python",
   "name": "python3"
  },
  "language_info": {
   "codemirror_mode": {
    "name": "ipython",
    "version": 3
   },
   "file_extension": ".py",
   "mimetype": "text/x-python",
   "name": "python",
   "nbconvert_exporter": "python",
   "pygments_lexer": "ipython3",
   "version": "3.7.7"
  }
 },
 "nbformat": 4,
 "nbformat_minor": 4
}
