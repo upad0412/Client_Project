{
 "cells": [
  {
   "cell_type": "code",
   "execution_count": 5,
   "metadata": {},
   "outputs": [],
   "source": [
    "import pandas as pd\n",
    "import numpy as np\n",
    "import seaborn as sns\n",
    "import matplotlib.pyplot as plt\n",
    "from sklearn.linear_model import LinearRegression\n",
    "from sklearn.model_selection import train_test_split, cross_val_score\n",
    "from sklearn.metrics import r2_score\n",
    "\n",
    "%matplotlib inline"
   ]
  },
  {
   "cell_type": "code",
   "execution_count": null,
   "metadata": {},
   "outputs": [],
   "source": []
  },
  {
   "cell_type": "code",
   "execution_count": 3,
   "metadata": {},
   "outputs": [
    {
     "ename": "NameError",
     "evalue": "name 'Funded_project' is not defined",
     "output_type": "error",
     "traceback": [
      "\u001b[0;31m---------------------------------------------------------------------------\u001b[0m",
      "\u001b[0;31mNameError\u001b[0m                                 Traceback (most recent call last)",
      "\u001b[0;32m<ipython-input-3-c2aa69fe7c0e>\u001b[0m in \u001b[0;36m<module>\u001b[0;34m\u001b[0m\n\u001b[0;32m----> 1\u001b[0;31m \u001b[0mFunded_project\u001b[0m\u001b[0;34m.\u001b[0m\u001b[0mgroupby\u001b[0m\u001b[0;34m(\u001b[0m\u001b[0;34m'damageCategory'\u001b[0m\u001b[0;34m)\u001b[0m\u001b[0;34m.\u001b[0m\u001b[0mprojectAmount\u001b[0m\u001b[0;34m.\u001b[0m\u001b[0mcount\u001b[0m\u001b[0;34m(\u001b[0m\u001b[0;34m)\u001b[0m\u001b[0;34m.\u001b[0m\u001b[0;31m\\\u001b[0m\u001b[0;34m\u001b[0m\u001b[0;34m\u001b[0m\u001b[0m\n\u001b[0m\u001b[1;32m      2\u001b[0m     \u001b[0msort_values\u001b[0m\u001b[0;34m(\u001b[0m\u001b[0;34m)\u001b[0m\u001b[0;34m.\u001b[0m\u001b[0;31m\\\u001b[0m\u001b[0;34m\u001b[0m\u001b[0;34m\u001b[0m\u001b[0m\n\u001b[1;32m      3\u001b[0m     \u001b[0mplot\u001b[0m\u001b[0;34m(\u001b[0m\u001b[0mkind\u001b[0m\u001b[0;34m=\u001b[0m\u001b[0;34m'barh'\u001b[0m\u001b[0;34m,\u001b[0m \u001b[0mfigsize\u001b[0m\u001b[0;34m=\u001b[0m\u001b[0;34m(\u001b[0m\u001b[0;36m10\u001b[0m\u001b[0;34m,\u001b[0m\u001b[0;36m10\u001b[0m\u001b[0;34m)\u001b[0m\u001b[0;34m)\u001b[0m\u001b[0;34m\u001b[0m\u001b[0;34m\u001b[0m\u001b[0m\n\u001b[1;32m      4\u001b[0m \u001b[0mplt\u001b[0m\u001b[0;34m.\u001b[0m\u001b[0mtitle\u001b[0m\u001b[0;34m(\u001b[0m\u001b[0;34m'Which Damage Category Project Amounts are large?'\u001b[0m\u001b[0;34m)\u001b[0m\u001b[0;34m\u001b[0m\u001b[0;34m\u001b[0m\u001b[0m\n\u001b[1;32m      5\u001b[0m \u001b[0mplt\u001b[0m\u001b[0;34m.\u001b[0m\u001b[0mshow\u001b[0m\u001b[0;34m(\u001b[0m\u001b[0;34m)\u001b[0m\u001b[0;34m\u001b[0m\u001b[0;34m\u001b[0m\u001b[0m\n",
      "\u001b[0;31mNameError\u001b[0m: name 'Funded_project' is not defined"
     ]
    }
   ],
   "source": [
    "Funded_project.groupby('damageCategory').projectAmount.count().\\\n",
    "    sort_values().\\\n",
    "    plot(kind='barh', figsize=(10,10))\n",
    "plt.title('Which Damage Category Project Amounts are large?')\n",
    "plt.show()"
   ]
  },
  {
   "cell_type": "code",
   "execution_count": 3,
   "metadata": {},
   "outputs": [],
   "source": [
    "import geopandas\n",
    "import matplotlib.pyplot as plt"
   ]
  },
  {
   "cell_type": "code",
   "execution_count": 6,
   "metadata": {},
   "outputs": [
    {
     "ename": "NameError",
     "evalue": "name 'grants_data' is not defined",
     "output_type": "error",
     "traceback": [
      "\u001b[0;31m---------------------------------------------------------------------------\u001b[0m",
      "\u001b[0;31mNameError\u001b[0m                                 Traceback (most recent call last)",
      "\u001b[0;32m<ipython-input-6-620804b47023>\u001b[0m in \u001b[0;36m<module>\u001b[0;34m\u001b[0m\n\u001b[1;32m      1\u001b[0m data = pd.concat(\n\u001b[1;32m      2\u001b[0m     [\n\u001b[0;32m----> 3\u001b[0;31m         \u001b[0mgrants_data\u001b[0m\u001b[0;34m.\u001b[0m\u001b[0mgroupby\u001b[0m\u001b[0;34m(\u001b[0m\u001b[0;34m'state_grant'\u001b[0m\u001b[0;34m)\u001b[0m\u001b[0;34m.\u001b[0m\u001b[0mmean\u001b[0m\u001b[0;34m(\u001b[0m\u001b[0;34m)\u001b[0m\u001b[0;34m[\u001b[0m\u001b[0;34m'projectAmount'\u001b[0m\u001b[0;34m]\u001b[0m\u001b[0;34m,\u001b[0m\u001b[0;34m\u001b[0m\u001b[0;34m\u001b[0m\u001b[0m\n\u001b[0m\u001b[1;32m      4\u001b[0m         \u001b[0mgrants_data\u001b[0m\u001b[0;34m.\u001b[0m\u001b[0mgroupby\u001b[0m\u001b[0;34m(\u001b[0m\u001b[0;34m'state_grant'\u001b[0m\u001b[0;34m)\u001b[0m\u001b[0;34m.\u001b[0m\u001b[0mcount\u001b[0m\u001b[0;34m(\u001b[0m\u001b[0;34m)\u001b[0m\u001b[0;34m[\u001b[0m\u001b[0;34m'zipCode'\u001b[0m\u001b[0;34m]\u001b[0m\u001b[0;34m\u001b[0m\u001b[0;34m\u001b[0m\u001b[0m\n\u001b[1;32m      5\u001b[0m     ], \n",
      "\u001b[0;31mNameError\u001b[0m: name 'grants_data' is not defined"
     ]
    }
   ],
   "source": [
    "data = pd.concat(\n",
    "    [\n",
    "        grants_data.groupby('state_grant').mean()['projectAmount'],\n",
    "        grants_data.groupby('state_grant').count()['zipCode']\n",
    "    ], \n",
    "    \n",
    "    axis=1)\n",
    "f, ax = plt.subplots()\n",
    "sns.stripplot(data.sort_values(by='projectAmount').projectAmount, data.sort_values(by='projectAmount').index, orient='h', color='red');"
   ]
  },
  {
   "cell_type": "code",
   "execution_count": 2,
   "metadata": {},
   "outputs": [
    {
     "ename": "NameError",
     "evalue": "name 'pd' is not defined",
     "output_type": "error",
     "traceback": [
      "\u001b[0;31m---------------------------------------------------------------------------\u001b[0m",
      "\u001b[0;31mNameError\u001b[0m                                 Traceback (most recent call last)",
      "\u001b[0;32m<ipython-input-2-2ca5261fbf78>\u001b[0m in \u001b[0;36m<module>\u001b[0;34m\u001b[0m\n\u001b[0;32m----> 1\u001b[0;31m \u001b[0mpop_totals_by_zip\u001b[0m\u001b[0;34m=\u001b[0m\u001b[0mpd\u001b[0m\u001b[0;34m.\u001b[0m\u001b[0mread_csv\u001b[0m\u001b[0;34m(\u001b[0m\u001b[0;34m'pop_totals_by_zip.csv'\u001b[0m\u001b[0;34m)\u001b[0m\u001b[0;34m\u001b[0m\u001b[0;34m\u001b[0m\u001b[0m\n\u001b[0m\u001b[1;32m      2\u001b[0m \u001b[0mpop_totals_by_zip\u001b[0m\u001b[0;34m\u001b[0m\u001b[0;34m\u001b[0m\u001b[0m\n",
      "\u001b[0;31mNameError\u001b[0m: name 'pd' is not defined"
     ]
    }
   ],
   "source": [
    "pop_totals_by_zip=pd.read_csv('pop_totals_by_zip.csv')\n",
    "pop_totals_by_zip"
   ]
  },
  {
   "cell_type": "code",
   "execution_count": null,
   "metadata": {},
   "outputs": [],
   "source": [
    "print('The average population {:,.0f} , the median of the population'.format(\n",
    "    pop_totals_by_zip['population'].mean(), pop_totals_by_zip['population'].median()))\n",
    "print('maximum population {:,.0f} , minimum population {:,.0f}'.format(\n",
    "    pop_totals_by_zip['population'].max(), pop_totals_by_zip['population'].min()))\n",
    "pop_totals_by_zip['population'].hist(bins=21, rwidth=.8, figsize=(8,4))\n",
    "plt.title('Population per zipcode')\n",
    "plt.show()"
   ]
  },
  {
   "cell_type": "code",
   "execution_count": null,
   "metadata": {},
   "outputs": [],
   "source": [
    "data = pd.concat(\n",
    "    [\n",
    "        grants_data.groupby('state_grant').mean()['projectAmount'],\n",
    "        grants_data.groupby('state_grant').count()['zipCode']\n",
    "    ], \n",
    "    \n",
    "    axis=1)\n",
    "f, ax = plt.subplots()\n",
    "sns.stripplot(data.sort_values(by='projectAmount').projectAmount, data.sort_values(by='projectAmount').index, orient='h', color='red');"
   ]
  },
  {
   "cell_type": "code",
   "execution_count": null,
   "metadata": {},
   "outputs": [],
   "source": [
    "zipcode_data.groupby('STATE').zipcode.count().\\\n",
    "    sort_values().\\\n",
    "    plot(kind='barh', figsize=(10,10))\n",
    "plt.title('Which states zipcode s are blong to?')\n",
    "plt.show()"
   ]
  },
  {
   "cell_type": "code",
   "execution_count": null,
   "metadata": {},
   "outputs": [],
   "source": [
    "flood_height=pd.read_csv('FloodHeightsZIP.csv')\n",
    "flood_height"
   ]
  },
  {
   "cell_type": "code",
   "execution_count": null,
   "metadata": {},
   "outputs": [],
   "source": [
    "flood_depth=pd.read_csv('depths_and_hurricanes.csv')\n",
    "flood_depth"
   ]
  },
  {
   "cell_type": "code",
   "execution_count": null,
   "metadata": {},
   "outputs": [],
   "source": [
    "flood_depth.columns"
   ]
  },
  {
   "cell_type": "code",
   "execution_count": null,
   "metadata": {},
   "outputs": [],
   "source": [
    "flood_depth.groupby('eventName').height_above_gnd.mean().\\\n",
    "    sort_values().\\\n",
    "    plot(kind='barh', figsize=(10,10))\n",
    "plt.title('Flood height mean and event')\n",
    "plt.show()"
   ]
  },
  {
   "cell_type": "code",
   "execution_count": null,
   "metadata": {},
   "outputs": [],
   "source": [
    "plt.rcParams['figure.figsize']=(23,10)\n",
    "ax = sns.boxplot(x=\"eventName\", y=\"height_above_gnd\", data=flood_depth,width=0.8,linewidth=3)\n",
    "ax.set_xlabel(flood_depth.groupby('eventName'),fontsize=30)\n",
    "ax.set_ylabel(flood_depth['height_above_gnd'].mean,fontsize=30)\n",
    "plt.title('Flood height vs eventname',fontsize=40)\n",
    "ax.tick_params(axis='x',labelsize=20,rotation=90)\n",
    "ax.tick_params(axis='y',labelsize=20,rotation=0)\n",
    "plt.grid()\n",
    "plt.ioff()"
   ]
  },
  {
   "cell_type": "code",
   "execution_count": null,
   "metadata": {},
   "outputs": [],
   "source": [
    "#KDist=Dist[Dist.STATE_UT_NAME == 'KERALA']\n",
    "k=flood_depth.groupby(('eventName'))\n",
    "ax=k.plot.bar(x=flood_depth.groupby('eventName'),y=flood_depth['height_above_gnd'].mean,width=0.5,edgecolor='k',align='center',linewidth=4,figsize=(16,8))\n",
    "plt.xlabel('eventName',fontsize=30)\n",
    "plt.ylabel('height_above_gnd',fontsize=20)\n",
    "plt.title('Rainfall in Districts of Kerala',fontsize=25)\n",
    "\n",
    "plt.grid()\n",
    "plt.ioff()"
   ]
  },
  {
   "cell_type": "code",
   "execution_count": null,
   "metadata": {},
   "outputs": [],
   "source": [
    "ax=flood_depth.groupby(['stateName'])['ANNUAL'].max().sort_values().tail(20).plot.bar(width=0.5,edgecolor='k',align='center',linewidth=4,figsize=(16,8))\n",
    "#ax=k.plot.bar(x='DISTRICT',y='ANNUAL',width=0.5,edgecolor='k',align='center',linewidth=4,figsize=(16,8))\n",
    "plt.xlabel('District',fontsize=30)\n",
    "plt.ylabel('Annual Rainfall (in mm)',fontsize=20)\n",
    "plt.title('Districts with Maximum Rainfall in India',fontsize=25)\n",
    "ax.tick_params(labelsize=20)\n",
    "plt.grid()\n",
    "plt.ioff()"
   ]
  },
  {
   "cell_type": "code",
   "execution_count": null,
   "metadata": {},
   "outputs": [],
   "source": [
    "x=flood_depth.groupby('eventName').height_above_gnd.mean().\\\n",
    "    sort_values().\\\n",
    "y"
   ]
  },
  {
   "cell_type": "code",
   "execution_count": null,
   "metadata": {},
   "outputs": [],
   "source": [
    "car_data_count_series = car_data_count.iloc[:,0]\n",
    "features_of_interest = pd.DataFrame({'equipment': car_data_avg['equipment'], 'availability': car_data_count_series})\n",
    "alternative_method = car_data_avg.merge(car_data_count, left_index=True, right_index=True, suffixes=['_avg','_count'])\n",
    "alternative_method[['equipment_avg', 'firstRegistration_count']].sort_values(by=['equipment_avg', 'firstRegistration_count'], ascending=True).plot(kind='barh')"
   ]
  },
  {
   "cell_type": "code",
   "execution_count": null,
   "metadata": {},
   "outputs": [],
   "source": [
    "## From plot we can visualize that hemaine, Lane August 2018, Isabel September 2003 facing more heighted flood"
   ]
  },
  {
   "cell_type": "code",
   "execution_count": null,
   "metadata": {},
   "outputs": [],
   "source": [
    "grant_money=pd.read_csv('grants_money_pop.csv')\n",
    "grant_money"
   ]
  },
  {
   "cell_type": "code",
   "execution_count": null,
   "metadata": {},
   "outputs": [],
   "source": [
    "grant_money.drop(columns = ['zipcode','Unnamed: 0'], inplace = True)"
   ]
  },
  {
   "cell_type": "code",
   "execution_count": null,
   "metadata": {},
   "outputs": [],
   "source": [
    "grant_money.columns"
   ]
  },
  {
   "cell_type": "code",
   "execution_count": null,
   "metadata": {},
   "outputs": [],
   "source": [
    "grant_money.isnull().sum()"
   ]
  },
  {
   "cell_type": "code",
   "execution_count": null,
   "metadata": {
    "scrolled": true
   },
   "outputs": [],
   "source": [
    "FEMA_grant=grant_money.sort_values('FEMA Event Name')['totalObligated']"
   ]
  },
  {
   "cell_type": "code",
   "execution_count": null,
   "metadata": {},
   "outputs": [],
   "source": [
    "FEMA_grant"
   ]
  },
  {
   "cell_type": "code",
   "execution_count": null,
   "metadata": {},
   "outputs": [],
   "source": [
    "grant_money['FEMA Event Name']"
   ]
  },
  {
   "cell_type": "code",
   "execution_count": null,
   "metadata": {},
   "outputs": [],
   "source": [
    "fig, ax = plt.subplots(figsize = (12, 6))\n",
    "grant_money.groupby('FEMA Event Name').FEMA_grant.T.plot.bar(ax = ax,\n",
    "                                                               width = 0.8,\n",
    "                                                               color = ['Orange', 'Navy', 'Black'])\n",
    "ax.set_title('Long Live and Prosper And May the Force be with You');"
   ]
  },
  {
   "cell_type": "code",
   "execution_count": null,
   "metadata": {},
   "outputs": [],
   "source": [
    "plt.figure(figsize=(10,6))\n",
    "sns.distplot(FEMA_grant)\n",
    "plt.show()"
   ]
  },
  {
   "cell_type": "code",
   "execution_count": null,
   "metadata": {
    "scrolled": true
   },
   "outputs": [],
   "source": [
    "grant_money.groupby('state').totalObligated.mean().\\\n",
    "    sort_values().\\\n",
    "    plot(kind='barh', figsize=(10,10))\n",
    "plt.title('Which states get the large amount of funds')\n",
    "plt.show()"
   ]
  },
  {
   "cell_type": "code",
   "execution_count": null,
   "metadata": {},
   "outputs": [],
   "source": [
    "data = pd.concat(\n",
    "    [\n",
    "        grant_money.groupby('FEMA Event Name').mean()['totalObligated'],\n",
    "        grant_money.groupby('FEMA Event Name').count()['zipCode']\n",
    "    ], \n",
    "    \n",
    "    axis=1)\n",
    "f, ax = plt.subplots()\n",
    "sns.stripplot(data.sort_values(by='totalObligated').totalObligated, data.sort_values(by='totalObligated').index, orient='h', color='red');"
   ]
  },
  {
   "cell_type": "code",
   "execution_count": null,
   "metadata": {},
   "outputs": [],
   "source": [
    "##Grant Amount for FEMA event name"
   ]
  },
  {
   "cell_type": "code",
   "execution_count": null,
   "metadata": {},
   "outputs": [],
   "source": [
    "plt.figure(figsize=(10,6))\n",
    "sns.distplot(grant_money.total_agi_per_zip)\n",
    "plt.show()"
   ]
  },
  {
   "cell_type": "code",
   "execution_count": null,
   "metadata": {},
   "outputs": [],
   "source": [
    "print('The average income is  {:,.0f} , the median of the income {:,.0f} '.format(\n",
    "    grant_money['total_agi_per_zip'].mean(), grant_money['total_agi_per_zip'].median()))\n",
    "print('The maximum income {:,.0f} , the minimum {:,.0f}'.format(\n",
    "    grant_money['total_agi_per_zip'].max(), grant_money['total_agi_per_zip'].min()))\n",
    "grant_money['total_agi_per_zip'].hist(bins=21, rwidth=.8, figsize=(8,4))\n",
    "plt.title('Income of households per zip code')\n",
    "plt.show()"
   ]
  },
  {
   "cell_type": "code",
   "execution_count": null,
   "metadata": {},
   "outputs": [],
   "source": [
    "##Income of the households per zip code "
   ]
  },
  {
   "cell_type": "code",
   "execution_count": null,
   "metadata": {},
   "outputs": [],
   "source": [
    "ax=grant_money.groupby(['state'])['totalObligated'].max().sort_values().tail(20).plot.bar(width=0.5,edgecolor='k',align='center',linewidth=4,figsize=(13,))\n",
    "#ax=k.plot.bar(x='DISTRICT',y='ANNUAL',width=0.5,edgecolor='k',align='center',linewidth=4,figsize=(16,8))\n",
    "plt.xlabel('state',fontsize=30)\n",
    "plt.ylabel('totalObligated',fontsize=20)\n",
    "plt.title('Which sates get the most fund amount',fontsize=25)\n",
    "ax.tick_params(labelsize=20)\n",
    "plt.grid()\n",
    "plt.ioff()"
   ]
  },
  {
   "cell_type": "code",
   "execution_count": null,
   "metadata": {},
   "outputs": [],
   "source": [
    "#Aggregate grant funding by ZIP\n",
    "zip_grants = grant_money.groupby(['zipCode', 'USGS Flood Event Name']).mean()[['totalObligated']].reset_index()"
   ]
  },
  {
   "cell_type": "code",
   "execution_count": null,
   "metadata": {},
   "outputs": [],
   "source": []
  }
 ],
 "metadata": {
  "kernelspec": {
   "display_name": "Python 3",
   "language": "python",
   "name": "python3"
  },
  "language_info": {
   "codemirror_mode": {
    "name": "ipython",
    "version": 3
   },
   "file_extension": ".py",
   "mimetype": "text/x-python",
   "name": "python",
   "nbconvert_exporter": "python",
   "pygments_lexer": "ipython3",
   "version": "3.7.7"
  }
 },
 "nbformat": 4,
 "nbformat_minor": 4
}
