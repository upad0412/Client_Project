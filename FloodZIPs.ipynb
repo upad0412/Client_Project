{
 "cells": [
  {
   "cell_type": "code",
   "execution_count": 1,
   "metadata": {},
   "outputs": [],
   "source": [
    "#Import Required Packages\n",
    "import pandas as pd\n",
    "import requests\n",
    "import googlemaps\n",
    "import numpy as np\n",
    "from time import sleep"
   ]
  },
  {
   "cell_type": "code",
   "execution_count": 2,
   "metadata": {},
   "outputs": [],
   "source": [
    "# Read in USGS Flood Data and establish ZIP column\n",
    "floods = pd.read_csv('Hurricane.csv')\n",
    "\n",
    "floods.drop(floods[floods['height_above_gnd'] > 30].index, inplace = True)\n",
    "\n",
    "floods['zip'] = np.zeros(floods.shape[0])"
   ]
  },
  {
   "cell_type": "code",
   "execution_count": 3,
   "metadata": {},
   "outputs": [],
   "source": [
    "# My Google Maps API key - deleted\n",
    "mykey = ''"
   ]
  },
  {
   "cell_type": "code",
   "execution_count": 4,
   "metadata": {},
   "outputs": [
    {
     "name": "stdout",
     "output_type": "stream",
     "text": [
      "Getting coordinates for index 0\n"
     ]
    }
   ],
   "source": [
    "#Use Google Maps API to get ZIP code for every latitude longitude pair in flood dataset\n",
    "gmaps = googlemaps.Client(key=mykey)\n",
    "\n",
    "for i in floods.index[0:1]:#I truncated the index to show the cell runs without re-running entire query\n",
    "    url = f\"https://maps.googleapis.com/maps/api/geocode/json?latlng={floods.loc[i, 'latitude']},{floods.loc[i, 'longitude']}&result_type=postal_code&key={mykey}\"\n",
    "    print(f'Getting coordinates for index {i}')\n",
    "    res = requests.get(url)\n",
    "    a = res.json()['results']\n",
    "    if a != []:\n",
    "        floods.loc[i, 'zip'] = a[0]['address_components'][0]['long_name']\n",
    "    sleep(1)\n",
    "#floods.to_csv('HurricanewithZIP.csv')"
   ]
  },
  {
   "cell_type": "code",
   "execution_count": 5,
   "metadata": {},
   "outputs": [],
   "source": [
    "#Aggregate average flood height per zip per event\n",
    "zip_heights = floods.groupby(['zip', 'eventName']).mean()[['height_above_gnd']].reset_index()\n",
    "zip_heights.drop(zip_heights[zip_heights['zip'] == 0].index, inplace = True)\n",
    "zip_heights.to_csv('FloodHeightsZIP.csv')"
   ]
  }
 ],
 "metadata": {
  "kernelspec": {
   "display_name": "Python 3",
   "language": "python",
   "name": "python3"
  },
  "language_info": {
   "codemirror_mode": {
    "name": "ipython",
    "version": 3
   },
   "file_extension": ".py",
   "mimetype": "text/x-python",
   "name": "python",
   "nbconvert_exporter": "python",
   "pygments_lexer": "ipython3",
   "version": "3.7.7"
  }
 },
 "nbformat": 4,
 "nbformat_minor": 4
}
