{
 "cells": [
  {
   "cell_type": "code",
   "execution_count": 1,
   "metadata": {},
   "outputs": [],
   "source": [
    "#Import required modules\n",
    "import pandas as pd\n",
    "import numpy as np\n",
    "import matplotlib.pyplot as plt\n",
    "from mpl_toolkits.basemap import Basemap"
   ]
  },
  {
   "cell_type": "code",
   "execution_count": 2,
   "metadata": {},
   "outputs": [],
   "source": [
    "#Create dataframe of all details of grants\n",
    "grants = pd.merge(\n",
    "    left = pd.read_csv('PublicAssistanceFundedProjectsDetails.csv').drop(columns = ['hash','lastRefresh','id']), \n",
    "    right = pd.read_csv('GeoPublicAssistanceApplicants.csv').drop(columns = ['hash','lastRefresh','id']), \n",
    "    how = 'inner', \n",
    "    left_on = ['applicantId', 'disasterNumber'], \n",
    "    right_on = ['applicantId', 'disasterNumber'], \n",
    "    suffixes = ('_grant', '_applicant')\n",
    ")"
   ]
  },
  {
   "cell_type": "code",
   "execution_count": 3,
   "metadata": {},
   "outputs": [],
   "source": [
    "#Remove negative grant amounts\n",
    "grants.drop(index = grants[grants['totalObligated'] < 0].index, inplace = True)"
   ]
  },
  {
   "cell_type": "code",
   "execution_count": 4,
   "metadata": {},
   "outputs": [],
   "source": [
    "#Trim the zip code suffix\n",
    "grants['zipCode'] = grants['zipCode'].str.split(\"-\", expand = True)[0]"
   ]
  },
  {
   "cell_type": "code",
   "execution_count": 5,
   "metadata": {},
   "outputs": [],
   "source": [
    "#Add USGS Flood Event Name to grants dataframe\n",
    "grants = pd.merge(\n",
    "    left = grants, \n",
    "    right = pd.read_csv('Floods Listing - Flood IDs.csv')[['FEMA Disaster Code', 'FEMA Event Name', 'USGS Flood Event Name']], \n",
    "    left_on ='disasterNumber', \n",
    "    right_on = 'FEMA Disaster Code'\n",
    ")"
   ]
  },
  {
   "cell_type": "code",
   "execution_count": 6,
   "metadata": {},
   "outputs": [],
   "source": [
    "#Sort grants so highest grants show on plots\n",
    "grants.sort_values(by = 'totalObligated', inplace = True)"
   ]
  },
  {
   "cell_type": "code",
   "execution_count": 7,
   "metadata": {
    "scrolled": true
   },
   "outputs": [],
   "source": [
    "#Plot distribution of funding for each event\n",
    "for event in grants['USGS Flood Event Name'].unique():\n",
    "    \n",
    "    lats = grants[(grants['USGS Flood Event Name'] == event)]['latitude']\n",
    "    longs = grants[(grants['USGS Flood Event Name'] == event)]['longitude']\n",
    "    spacing = 2 * max(abs(lats.describe()['75%'] - lats.describe()['25%']), abs(longs.describe()['75%'] - longs.describe()['25%']))\n",
    "    plt.figure(figsize = (12, 12))\n",
    "    m = Basemap(projection = 'merc',\n",
    "                llcrnrlat = lats.describe()['25%'] - spacing,\n",
    "                urcrnrlat = lats.describe()['75%'] + spacing,\n",
    "                llcrnrlon = longs.describe()['25%'] - spacing,\n",
    "                urcrnrlon = longs.describe()['75%'] + spacing,\n",
    "                lat_ts = 20,\n",
    "                resolution ='l')\n",
    "    m.drawcoastlines(color = 'gray')\n",
    "    x, y = m(longs.values, lats.values)\n",
    "    m.hexbin(x, \n",
    "             y, \n",
    "             C = grants[(grants['USGS Flood Event Name'] == event)]['totalObligated'], \n",
    "             gridsize = 500,\n",
    "             cmap = 'inferno')\n",
    "    \n",
    "    plt.colorbar()\n",
    "    plt.title(f'Distribution of FEMA Funding for {event}')\n",
    "    plt.savefig(f'images/Hexbin Distribution of FEMA Funding for {event}.jpg')\n",
    "    plt.close()"
   ]
  },
  {
   "cell_type": "code",
   "execution_count": 8,
   "metadata": {},
   "outputs": [],
   "source": [
    "#Load depths data, remove outliers\n",
    "depths = pd.read_csv('Hurricane.csv')\n",
    "depths.drop(depths[depths['height_above_gnd'] > 20].index, inplace = True)"
   ]
  },
  {
   "cell_type": "code",
   "execution_count": 9,
   "metadata": {},
   "outputs": [],
   "source": [
    "#Plot distribution of flooding for each event\n",
    "for event in grants['USGS Flood Event Name'].unique():\n",
    "    \n",
    "    lats = grants[(grants['USGS Flood Event Name'] == event)]['latitude']\n",
    "    longs = grants[(grants['USGS Flood Event Name'] == event)]['longitude']\n",
    "    spacing = 2 * max(abs(lats.describe()['75%'] - lats.describe()['25%']), abs(longs.describe()['75%'] - longs.describe()['25%']))\n",
    "    plt.figure(figsize = (12, 12))\n",
    "    m = Basemap(projection = 'merc',\n",
    "                llcrnrlat = lats.describe()['25%'] - spacing,\n",
    "                urcrnrlat = lats.describe()['75%'] + spacing,\n",
    "                llcrnrlon = longs.describe()['25%'] - spacing,\n",
    "                urcrnrlon = longs.describe()['75%'] + spacing,\n",
    "                lat_ts = 20,\n",
    "                resolution ='l')\n",
    "    m.drawcoastlines(color = 'gray')\n",
    "    x, y = m(depths[depths['eventName'] == event]['longitude'].values, \n",
    "             depths[depths['eventName'] == event]['latitude'].values)\n",
    "    m.hexbin(x, \n",
    "             y, \n",
    "             C = depths[depths['eventName'] == event]['height_above_gnd'], \n",
    "             gridsize = 100,\n",
    "             cmap = 'YlGnBu')\n",
    "    \n",
    "    plt.colorbar()\n",
    "    plt.title(f'Distribution of Flooding for {event}')\n",
    "    plt.savefig(f'images/Hexbin Distribution of Flooding for {event}.jpg')\n",
    "    plt.close()"
   ]
  },
  {
   "cell_type": "code",
   "execution_count": 10,
   "metadata": {},
   "outputs": [],
   "source": [
    "#Plot cumulative ratio graph for Nate & Irma\n",
    "plt.figure(figsize = (7,7))\n",
    "for event in ['Nate October 2017', 'Irma September 2017']:\n",
    "    a = np.cumsum(grants[(grants['USGS Flood Event Name'] == event)]['totalObligated'].sort_values(ascending = False)).values / np.sum(grants[(grants['USGS Flood Event Name'] == event)]['totalObligated'])\n",
    "    b = np.arange(len(a)) / len(a)\n",
    "    plt.plot(b, a, label = event)\n",
    "plt.legend()\n",
    "plt.title('Cumulative Ratio of Funding and Recepients, Hurricanes Nate and Irma');\n",
    "plt.savefig('Cumulative Ratio of Funding and Recepients, Hurricanes Nate and Irma.jpg')\n",
    "plt.close()"
   ]
  },
  {
   "cell_type": "code",
   "execution_count": 11,
   "metadata": {},
   "outputs": [],
   "source": [
    "#Load ZIP-aggregated statistics\n",
    "zip_stats =pd.read_csv('ZIPAggStats.csv').drop(columns = ['Unnamed: 0'])"
   ]
  },
  {
   "cell_type": "code",
   "execution_count": 12,
   "metadata": {},
   "outputs": [],
   "source": [
    "#Scatterplot of funding and flood height by ZIP for Nate & Irma\n",
    "plt.figure(figsize = (7, 5))\n",
    "for event in ['Nate October 2017', 'Irma September 2017']:\n",
    "    \n",
    "    plt.scatter(zip_stats[zip_stats['USGS Flood Event Name'] == event]['height_above_gnd'], zip_stats[zip_stats['USGS Flood Event Name'] == event]['totalObligated'], label = event, alpha = 0.4)\n",
    "plt.legend()\n",
    "plt.title('Total Funding by ZIP vs Flood Depth by ZIP, Hurricanes Nate and Irma');\n",
    "plt.savefig('Total Funding by ZIP vs Flood Depth by ZIP, Hurricanes Nate and Irma.jpg')\n",
    "plt.close();"
   ]
  },
  {
   "cell_type": "code",
   "execution_count": 13,
   "metadata": {},
   "outputs": [],
   "source": [
    "#Scatterplot of funding and flood height by ZIP for Nate & Irma\n",
    "plt.figure(figsize = (7, 5))\n",
    "for i, event in enumerate(['Nate October 2017', 'Irma September 2017']):\n",
    "    \n",
    "    plt.boxplot(zip_stats[zip_stats['USGS Flood Event Name'] == event]['funding_per_foot'].dropna(),\n",
    "                positions = [i],\n",
    "                labels = [event],\n",
    "                widths = [0.4],\n",
    "                vert = False)\n",
    "plt.title('Funding per Foot Flooding, Hurricanes Nate and Irma')\n",
    "plt.savefig('Funding per Foot Flooding, Hurricanes Nate and Irma.jpg')\n",
    "plt.close();"
   ]
  },
  {
   "cell_type": "code",
   "execution_count": null,
   "metadata": {},
   "outputs": [],
   "source": []
  }
 ],
 "metadata": {
  "kernelspec": {
   "display_name": "Python 3",
   "language": "python",
   "name": "python3"
  },
  "language_info": {
   "codemirror_mode": {
    "name": "ipython",
    "version": 3
   },
   "file_extension": ".py",
   "mimetype": "text/x-python",
   "name": "python",
   "nbconvert_exporter": "python",
   "pygments_lexer": "ipython3",
   "version": "3.7.7"
  }
 },
 "nbformat": 4,
 "nbformat_minor": 4
}
